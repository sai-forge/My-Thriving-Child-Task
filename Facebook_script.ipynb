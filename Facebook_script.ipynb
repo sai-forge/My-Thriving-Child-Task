{
 "cells": [
  {
   "cell_type": "code",
   "execution_count": 2,
   "id": "ae9f559c",
   "metadata": {},
   "outputs": [],
   "source": [
    "import pandas as pd\n",
    "\n",
    "df = pd.read_csv('Copy of Facebook_Analytics - DO NOT DELETE (for interview purposes) - Facebook Profile Overview.csv')"
   ]
  },
  {
   "cell_type": "code",
   "execution_count": null,
   "id": "91db0253",
   "metadata": {},
   "outputs": [
    {
     "data": {
      "text/html": [
       "<div>\n",
       "<style scoped>\n",
       "    .dataframe tbody tr th:only-of-type {\n",
       "        vertical-align: middle;\n",
       "    }\n",
       "\n",
       "    .dataframe tbody tr th {\n",
       "        vertical-align: top;\n",
       "    }\n",
       "\n",
       "    .dataframe thead th {\n",
       "        text-align: right;\n",
       "    }\n",
       "</style>\n",
       "<table border=\"1\" class=\"dataframe\">\n",
       "  <thead>\n",
       "    <tr style=\"text-align: right;\">\n",
       "      <th></th>\n",
       "      <th>Date</th>\n",
       "      <th>Page followers</th>\n",
       "      <th>Total impressions</th>\n",
       "      <th>Organic impressions</th>\n",
       "      <th>Total page reactions</th>\n",
       "      <th>Total reach</th>\n",
       "      <th>% of reach from organic</th>\n",
       "      <th>% of reach from paid</th>\n",
       "      <th>Page post engagements</th>\n",
       "      <th>Total likes</th>\n",
       "      <th>New likes</th>\n",
       "      <th>Unlikes</th>\n",
       "      <th>Net likes</th>\n",
       "      <th>RowHash</th>\n",
       "    </tr>\n",
       "  </thead>\n",
       "  <tbody>\n",
       "    <tr>\n",
       "      <th>0</th>\n",
       "      <td>02/03/2025</td>\n",
       "      <td>2146</td>\n",
       "      <td>16</td>\n",
       "      <td>0</td>\n",
       "      <td>0</td>\n",
       "      <td>16</td>\n",
       "      <td>NaN</td>\n",
       "      <td>0.0</td>\n",
       "      <td>0</td>\n",
       "      <td>2109</td>\n",
       "      <td>0</td>\n",
       "      <td>0</td>\n",
       "      <td>0</td>\n",
       "      <td>ef87c8184ef59de1d7c83833fd28aba94a9f26343482ec...</td>\n",
       "    </tr>\n",
       "    <tr>\n",
       "      <th>1</th>\n",
       "      <td>01/03/2025</td>\n",
       "      <td>2146</td>\n",
       "      <td>108</td>\n",
       "      <td>0</td>\n",
       "      <td>5</td>\n",
       "      <td>101</td>\n",
       "      <td>NaN</td>\n",
       "      <td>0.0</td>\n",
       "      <td>9</td>\n",
       "      <td>2111</td>\n",
       "      <td>1</td>\n",
       "      <td>0</td>\n",
       "      <td>1</td>\n",
       "      <td>50ae2eba54bce2196bab4d40afe6970691ba51c78c0287...</td>\n",
       "    </tr>\n",
       "    <tr>\n",
       "      <th>2</th>\n",
       "      <td>28/02/2025</td>\n",
       "      <td>2145</td>\n",
       "      <td>1</td>\n",
       "      <td>0</td>\n",
       "      <td>0</td>\n",
       "      <td>1</td>\n",
       "      <td>NaN</td>\n",
       "      <td>0.0</td>\n",
       "      <td>0</td>\n",
       "      <td>2110</td>\n",
       "      <td>0</td>\n",
       "      <td>0</td>\n",
       "      <td>0</td>\n",
       "      <td>671d002ee27ad653a043db917f4f26c2ef521efe507938...</td>\n",
       "    </tr>\n",
       "    <tr>\n",
       "      <th>3</th>\n",
       "      <td>27/02/2025</td>\n",
       "      <td>2145</td>\n",
       "      <td>9</td>\n",
       "      <td>0</td>\n",
       "      <td>0</td>\n",
       "      <td>3</td>\n",
       "      <td>NaN</td>\n",
       "      <td>0.0</td>\n",
       "      <td>0</td>\n",
       "      <td>2110</td>\n",
       "      <td>1</td>\n",
       "      <td>0</td>\n",
       "      <td>1</td>\n",
       "      <td>641223fa553c09a2f7aace7993a703ec0532368a5da577...</td>\n",
       "    </tr>\n",
       "    <tr>\n",
       "      <th>4</th>\n",
       "      <td>26/02/2025</td>\n",
       "      <td>2144</td>\n",
       "      <td>5</td>\n",
       "      <td>0</td>\n",
       "      <td>0</td>\n",
       "      <td>3</td>\n",
       "      <td>NaN</td>\n",
       "      <td>0.0</td>\n",
       "      <td>0</td>\n",
       "      <td>2109</td>\n",
       "      <td>0</td>\n",
       "      <td>1</td>\n",
       "      <td>-1</td>\n",
       "      <td>7460cb1200c8399b7228e0117f286f85d27d66931758f1...</td>\n",
       "    </tr>\n",
       "  </tbody>\n",
       "</table>\n",
       "</div>"
      ],
      "text/plain": [
       "         Date  Page followers  Total impressions  Organic impressions  \\\n",
       "0  02/03/2025            2146                 16                    0   \n",
       "1  01/03/2025            2146                108                    0   \n",
       "2  28/02/2025            2145                  1                    0   \n",
       "3  27/02/2025            2145                  9                    0   \n",
       "4  26/02/2025            2144                  5                    0   \n",
       "\n",
       "   Total page reactions  Total reach  % of reach from organic  \\\n",
       "0                     0           16                      NaN   \n",
       "1                     5          101                      NaN   \n",
       "2                     0            1                      NaN   \n",
       "3                     0            3                      NaN   \n",
       "4                     0            3                      NaN   \n",
       "\n",
       "   % of reach from paid  Page post engagements  Total likes  New likes  \\\n",
       "0                   0.0                      0         2109          0   \n",
       "1                   0.0                      9         2111          1   \n",
       "2                   0.0                      0         2110          0   \n",
       "3                   0.0                      0         2110          1   \n",
       "4                   0.0                      0         2109          0   \n",
       "\n",
       "   Unlikes  Net likes                                            RowHash  \n",
       "0        0          0  ef87c8184ef59de1d7c83833fd28aba94a9f26343482ec...  \n",
       "1        0          1  50ae2eba54bce2196bab4d40afe6970691ba51c78c0287...  \n",
       "2        0          0  671d002ee27ad653a043db917f4f26c2ef521efe507938...  \n",
       "3        0          1  641223fa553c09a2f7aace7993a703ec0532368a5da577...  \n",
       "4        1         -1  7460cb1200c8399b7228e0117f286f85d27d66931758f1...  "
      ]
     },
     "execution_count": 3,
     "metadata": {},
     "output_type": "execute_result"
    }
   ],
   "source": [
    "df.head()"
   ]
  },
  {
   "cell_type": "code",
   "execution_count": 4,
   "id": "71f36c59",
   "metadata": {},
   "outputs": [
    {
     "name": "stdout",
     "output_type": "stream",
     "text": [
      "<class 'pandas.core.frame.DataFrame'>\n",
      "RangeIndex: 701 entries, 0 to 700\n",
      "Data columns (total 14 columns):\n",
      " #   Column                   Non-Null Count  Dtype  \n",
      "---  ------                   --------------  -----  \n",
      " 0   Date                     701 non-null    object \n",
      " 1   Page followers           701 non-null    int64  \n",
      " 2   Total impressions        701 non-null    int64  \n",
      " 3   Organic impressions      701 non-null    int64  \n",
      " 4   Total page reactions     701 non-null    int64  \n",
      " 5   Total reach              701 non-null    int64  \n",
      " 6   % of reach from organic  0 non-null      float64\n",
      " 7   % of reach from paid     701 non-null    float64\n",
      " 8   Page post engagements    701 non-null    int64  \n",
      " 9   Total likes              701 non-null    int64  \n",
      " 10  New likes                701 non-null    int64  \n",
      " 11  Unlikes                  701 non-null    int64  \n",
      " 12  Net likes                701 non-null    int64  \n",
      " 13  RowHash                  700 non-null    object \n",
      "dtypes: float64(2), int64(10), object(2)\n",
      "memory usage: 76.8+ KB\n"
     ]
    }
   ],
   "source": [
    "df.info()"
   ]
  },
  {
   "cell_type": "code",
   "execution_count": 5,
   "id": "35f789ba",
   "metadata": {},
   "outputs": [
    {
     "data": {
      "text/html": [
       "<div>\n",
       "<style scoped>\n",
       "    .dataframe tbody tr th:only-of-type {\n",
       "        vertical-align: middle;\n",
       "    }\n",
       "\n",
       "    .dataframe tbody tr th {\n",
       "        vertical-align: top;\n",
       "    }\n",
       "\n",
       "    .dataframe thead th {\n",
       "        text-align: right;\n",
       "    }\n",
       "</style>\n",
       "<table border=\"1\" class=\"dataframe\">\n",
       "  <thead>\n",
       "    <tr style=\"text-align: right;\">\n",
       "      <th></th>\n",
       "      <th>Page followers</th>\n",
       "      <th>Total impressions</th>\n",
       "      <th>Organic impressions</th>\n",
       "      <th>Total page reactions</th>\n",
       "      <th>Total reach</th>\n",
       "      <th>% of reach from organic</th>\n",
       "      <th>% of reach from paid</th>\n",
       "      <th>Page post engagements</th>\n",
       "      <th>Total likes</th>\n",
       "      <th>New likes</th>\n",
       "      <th>Unlikes</th>\n",
       "      <th>Net likes</th>\n",
       "    </tr>\n",
       "  </thead>\n",
       "  <tbody>\n",
       "    <tr>\n",
       "      <th>count</th>\n",
       "      <td>701.000000</td>\n",
       "      <td>701.000000</td>\n",
       "      <td>701.0</td>\n",
       "      <td>701.000000</td>\n",
       "      <td>701.000000</td>\n",
       "      <td>0.0</td>\n",
       "      <td>701.000000</td>\n",
       "      <td>701.000000</td>\n",
       "      <td>701.000000</td>\n",
       "      <td>701.000000</td>\n",
       "      <td>701.000000</td>\n",
       "      <td>701.000000</td>\n",
       "    </tr>\n",
       "    <tr>\n",
       "      <th>mean</th>\n",
       "      <td>547.817404</td>\n",
       "      <td>3112.613409</td>\n",
       "      <td>0.0</td>\n",
       "      <td>19.400856</td>\n",
       "      <td>2797.768902</td>\n",
       "      <td>NaN</td>\n",
       "      <td>36.416862</td>\n",
       "      <td>110.843081</td>\n",
       "      <td>468.011412</td>\n",
       "      <td>2.958631</td>\n",
       "      <td>0.102710</td>\n",
       "      <td>2.855920</td>\n",
       "    </tr>\n",
       "    <tr>\n",
       "      <th>std</th>\n",
       "      <td>695.613978</td>\n",
       "      <td>11513.772854</td>\n",
       "      <td>0.0</td>\n",
       "      <td>90.082869</td>\n",
       "      <td>10526.179351</td>\n",
       "      <td>NaN</td>\n",
       "      <td>47.137081</td>\n",
       "      <td>453.039873</td>\n",
       "      <td>720.686189</td>\n",
       "      <td>13.191112</td>\n",
       "      <td>0.375319</td>\n",
       "      <td>13.028565</td>\n",
       "    </tr>\n",
       "    <tr>\n",
       "      <th>min</th>\n",
       "      <td>118.000000</td>\n",
       "      <td>0.000000</td>\n",
       "      <td>0.0</td>\n",
       "      <td>0.000000</td>\n",
       "      <td>0.000000</td>\n",
       "      <td>NaN</td>\n",
       "      <td>0.000000</td>\n",
       "      <td>0.000000</td>\n",
       "      <td>0.000000</td>\n",
       "      <td>0.000000</td>\n",
       "      <td>0.000000</td>\n",
       "      <td>-2.000000</td>\n",
       "    </tr>\n",
       "    <tr>\n",
       "      <th>25%</th>\n",
       "      <td>118.000000</td>\n",
       "      <td>0.000000</td>\n",
       "      <td>0.0</td>\n",
       "      <td>0.000000</td>\n",
       "      <td>0.000000</td>\n",
       "      <td>NaN</td>\n",
       "      <td>0.000000</td>\n",
       "      <td>0.000000</td>\n",
       "      <td>0.000000</td>\n",
       "      <td>0.000000</td>\n",
       "      <td>0.000000</td>\n",
       "      <td>0.000000</td>\n",
       "    </tr>\n",
       "    <tr>\n",
       "      <th>50%</th>\n",
       "      <td>201.000000</td>\n",
       "      <td>30.000000</td>\n",
       "      <td>0.0</td>\n",
       "      <td>0.000000</td>\n",
       "      <td>20.000000</td>\n",
       "      <td>NaN</td>\n",
       "      <td>0.000000</td>\n",
       "      <td>1.000000</td>\n",
       "      <td>146.000000</td>\n",
       "      <td>0.000000</td>\n",
       "      <td>0.000000</td>\n",
       "      <td>0.000000</td>\n",
       "    </tr>\n",
       "    <tr>\n",
       "      <th>75%</th>\n",
       "      <td>809.000000</td>\n",
       "      <td>1306.000000</td>\n",
       "      <td>0.0</td>\n",
       "      <td>3.000000</td>\n",
       "      <td>1069.000000</td>\n",
       "      <td>NaN</td>\n",
       "      <td>99.080000</td>\n",
       "      <td>37.000000</td>\n",
       "      <td>756.000000</td>\n",
       "      <td>0.000000</td>\n",
       "      <td>0.000000</td>\n",
       "      <td>0.000000</td>\n",
       "    </tr>\n",
       "    <tr>\n",
       "      <th>max</th>\n",
       "      <td>2148.000000</td>\n",
       "      <td>129104.000000</td>\n",
       "      <td>0.0</td>\n",
       "      <td>1211.000000</td>\n",
       "      <td>123258.000000</td>\n",
       "      <td>NaN</td>\n",
       "      <td>100.000000</td>\n",
       "      <td>4757.000000</td>\n",
       "      <td>2113.000000</td>\n",
       "      <td>138.000000</td>\n",
       "      <td>4.000000</td>\n",
       "      <td>135.000000</td>\n",
       "    </tr>\n",
       "  </tbody>\n",
       "</table>\n",
       "</div>"
      ],
      "text/plain": [
       "       Page followers  Total impressions  Organic impressions  \\\n",
       "count      701.000000         701.000000                701.0   \n",
       "mean       547.817404        3112.613409                  0.0   \n",
       "std        695.613978       11513.772854                  0.0   \n",
       "min        118.000000           0.000000                  0.0   \n",
       "25%        118.000000           0.000000                  0.0   \n",
       "50%        201.000000          30.000000                  0.0   \n",
       "75%        809.000000        1306.000000                  0.0   \n",
       "max       2148.000000      129104.000000                  0.0   \n",
       "\n",
       "       Total page reactions    Total reach  % of reach from organic  \\\n",
       "count            701.000000     701.000000                      0.0   \n",
       "mean              19.400856    2797.768902                      NaN   \n",
       "std               90.082869   10526.179351                      NaN   \n",
       "min                0.000000       0.000000                      NaN   \n",
       "25%                0.000000       0.000000                      NaN   \n",
       "50%                0.000000      20.000000                      NaN   \n",
       "75%                3.000000    1069.000000                      NaN   \n",
       "max             1211.000000  123258.000000                      NaN   \n",
       "\n",
       "       % of reach from paid  Page post engagements  Total likes   New likes  \\\n",
       "count            701.000000             701.000000   701.000000  701.000000   \n",
       "mean              36.416862             110.843081   468.011412    2.958631   \n",
       "std               47.137081             453.039873   720.686189   13.191112   \n",
       "min                0.000000               0.000000     0.000000    0.000000   \n",
       "25%                0.000000               0.000000     0.000000    0.000000   \n",
       "50%                0.000000               1.000000   146.000000    0.000000   \n",
       "75%               99.080000              37.000000   756.000000    0.000000   \n",
       "max              100.000000            4757.000000  2113.000000  138.000000   \n",
       "\n",
       "          Unlikes   Net likes  \n",
       "count  701.000000  701.000000  \n",
       "mean     0.102710    2.855920  \n",
       "std      0.375319   13.028565  \n",
       "min      0.000000   -2.000000  \n",
       "25%      0.000000    0.000000  \n",
       "50%      0.000000    0.000000  \n",
       "75%      0.000000    0.000000  \n",
       "max      4.000000  135.000000  "
      ]
     },
     "execution_count": 5,
     "metadata": {},
     "output_type": "execute_result"
    }
   ],
   "source": [
    "df.describe()"
   ]
  },
  {
   "cell_type": "code",
   "execution_count": 6,
   "id": "1d237ff1",
   "metadata": {},
   "outputs": [
    {
     "data": {
      "text/plain": [
       "0"
      ]
     },
     "execution_count": 6,
     "metadata": {},
     "output_type": "execute_result"
    }
   ],
   "source": [
    "df.duplicated().sum()"
   ]
  },
  {
   "cell_type": "code",
   "execution_count": 7,
   "id": "a363a9f2",
   "metadata": {},
   "outputs": [
    {
     "data": {
      "text/plain": [
       "Date                         0.000000\n",
       "Page followers               0.000000\n",
       "Total impressions            0.000000\n",
       "Organic impressions          0.000000\n",
       "Total page reactions         0.000000\n",
       "Total reach                  0.000000\n",
       "% of reach from organic    100.000000\n",
       "% of reach from paid         0.000000\n",
       "Page post engagements        0.000000\n",
       "Total likes                  0.000000\n",
       "New likes                    0.000000\n",
       "Unlikes                      0.000000\n",
       "Net likes                    0.000000\n",
       "RowHash                      0.142653\n",
       "dtype: float64"
      ]
     },
     "execution_count": 7,
     "metadata": {},
     "output_type": "execute_result"
    }
   ],
   "source": [
    "df.isnull().sum()/len(df) * 100"
   ]
  },
  {
   "cell_type": "code",
   "execution_count": 8,
   "id": "80ffb008",
   "metadata": {},
   "outputs": [],
   "source": [
    "# Decided to drop the row with the null value with a RowHash because it is a unique identifier and should not be null.\n",
    "df = df.dropna(subset=['RowHash'])"
   ]
  },
  {
   "cell_type": "code",
   "execution_count": 9,
   "id": "fd28116e",
   "metadata": {},
   "outputs": [],
   "source": [
    "# I have noticed that the column '% of reach from organic' has a lot of null values, so I will replace them with 0.\n",
    "df['% of reach from organic'] = df['% of reach from organic'].fillna(0)"
   ]
  },
  {
   "cell_type": "markdown",
   "id": "65a6d369",
   "metadata": {},
   "source": [
    "### Tackling any inconsistencies in the dataset."
   ]
  },
  {
   "cell_type": "code",
   "execution_count": 10,
   "id": "e1f7d1a1",
   "metadata": {},
   "outputs": [
    {
     "data": {
      "text/plain": [
       "dtype('O')"
      ]
     },
     "execution_count": 10,
     "metadata": {},
     "output_type": "execute_result"
    }
   ],
   "source": [
    "df['Date'].dtypes\n",
    "# The 'Date' column has been read as an object, so I will convert it to datetime format.\n",
    "# The output below shows that pandas assigned the object dtype to your Date column."
   ]
  },
  {
   "cell_type": "code",
   "execution_count": 11,
   "id": "5191e2b7",
   "metadata": {},
   "outputs": [
    {
     "data": {
      "text/plain": [
       "dtype('<M8[ns]')"
      ]
     },
     "execution_count": 11,
     "metadata": {},
     "output_type": "execute_result"
    }
   ],
   "source": [
    "df['Date'] = pd.to_datetime(df['Date'], format='%d/%m/%Y')\n",
    "df['Date'].dtypes\n",
    "# Now the 'Date' column is in datetime format, which is more suitable for time series analysis."
   ]
  },
  {
   "cell_type": "code",
   "execution_count": 12,
   "id": "ca66cfe3",
   "metadata": {},
   "outputs": [
    {
     "name": "stdout",
     "output_type": "stream",
     "text": [
      "<class 'pandas.core.frame.DataFrame'>\n",
      "Index: 700 entries, 0 to 699\n",
      "Data columns (total 14 columns):\n",
      " #   Column                   Non-Null Count  Dtype         \n",
      "---  ------                   --------------  -----         \n",
      " 0   Date                     700 non-null    datetime64[ns]\n",
      " 1   Page followers           700 non-null    int64         \n",
      " 2   Total impressions        700 non-null    int64         \n",
      " 3   Organic impressions      700 non-null    int64         \n",
      " 4   Total page reactions     700 non-null    int64         \n",
      " 5   Total reach              700 non-null    int64         \n",
      " 6   % of reach from organic  700 non-null    float64       \n",
      " 7   % of reach from paid     700 non-null    float64       \n",
      " 8   Page post engagements    700 non-null    int64         \n",
      " 9   Total likes              700 non-null    int64         \n",
      " 10  New likes                700 non-null    int64         \n",
      " 11  Unlikes                  700 non-null    int64         \n",
      " 12  Net likes                700 non-null    int64         \n",
      " 13  RowHash                  700 non-null    object        \n",
      "dtypes: datetime64[ns](1), float64(2), int64(10), object(1)\n",
      "memory usage: 82.0+ KB\n"
     ]
    }
   ],
   "source": [
    "df.info()"
   ]
  },
  {
   "cell_type": "markdown",
   "id": "b6060f5a",
   "metadata": {},
   "source": [
    "##### From the info above, you can see that I have successfully tackled the issue of any missing or inconsistent data, therefore the dataset is now clean and ready for analysis.\n",
    "\n",
    "##### I will now save the cleaned DataFrame to a new CSV file."
   ]
  },
  {
   "cell_type": "code",
   "execution_count": 13,
   "id": "944f5e83",
   "metadata": {},
   "outputs": [],
   "source": [
    "df.to_csv('facebook_profile_overview_cleaned.csv', index=False)"
   ]
  }
 ],
 "metadata": {
  "kernelspec": {
   "display_name": "Python 3",
   "language": "python",
   "name": "python3"
  },
  "language_info": {
   "codemirror_mode": {
    "name": "ipython",
    "version": 3
   },
   "file_extension": ".py",
   "mimetype": "text/x-python",
   "name": "python",
   "nbconvert_exporter": "python",
   "pygments_lexer": "ipython3",
   "version": "3.12.5"
  }
 },
 "nbformat": 4,
 "nbformat_minor": 5
}
